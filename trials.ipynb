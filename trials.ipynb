{
 "cells": [
  {
   "cell_type": "code",
   "execution_count": 1,
   "metadata": {},
   "outputs": [
    {
     "name": "stdout",
     "output_type": "stream",
     "text": [
      "Obtaining file:///home/eloi/Documents/AAP_Generative_AI/slides/GenerativeAiCourse/Day12%2613/MedicalChatbotLlama2 (from -r requirements.txt (line 12))\n",
      "  Preparing metadata (setup.py) ... \u001b[?25ldone\n",
      "\u001b[?25hRequirement already satisfied: ctransformers==0.2.5 in /home/eloi/anaconda3/envs/envmedchatbot/lib/python3.12/site-packages (from -r requirements.txt (line 1)) (0.2.5)\n",
      "Requirement already satisfied: sentence-transformers==2.6.0 in /home/eloi/anaconda3/envs/envmedchatbot/lib/python3.12/site-packages (from -r requirements.txt (line 2)) (2.6.0)\n",
      "Requirement already satisfied: pinecone-client in /home/eloi/anaconda3/envs/envmedchatbot/lib/python3.12/site-packages (from -r requirements.txt (line 3)) (4.1.2)\n",
      "Requirement already satisfied: langchain in /home/eloi/anaconda3/envs/envmedchatbot/lib/python3.12/site-packages (from -r requirements.txt (line 4)) (0.2.7)\n",
      "Requirement already satisfied: langchain_community in /home/eloi/anaconda3/envs/envmedchatbot/lib/python3.12/site-packages (from -r requirements.txt (line 5)) (0.2.7)\n",
      "Requirement already satisfied: langchain_core in /home/eloi/anaconda3/envs/envmedchatbot/lib/python3.12/site-packages (from -r requirements.txt (line 6)) (0.2.12)\n",
      "Requirement already satisfied: langchain_huggingface in /home/eloi/anaconda3/envs/envmedchatbot/lib/python3.12/site-packages (from -r requirements.txt (line 7)) (0.0.3)\n",
      "Requirement already satisfied: langchain_openai in /home/eloi/anaconda3/envs/envmedchatbot/lib/python3.12/site-packages (from -r requirements.txt (line 8)) (0.1.14)\n",
      "Requirement already satisfied: flask in /home/eloi/anaconda3/envs/envmedchatbot/lib/python3.12/site-packages (from -r requirements.txt (line 9)) (3.0.3)\n",
      "Requirement already satisfied: python-dotenv in /home/eloi/anaconda3/envs/envmedchatbot/lib/python3.12/site-packages (from -r requirements.txt (line 10)) (1.0.1)\n",
      "Requirement already satisfied: pypdf in /home/eloi/anaconda3/envs/envmedchatbot/lib/python3.12/site-packages (from -r requirements.txt (line 11)) (4.2.0)\n",
      "Requirement already satisfied: huggingface-hub in /home/eloi/anaconda3/envs/envmedchatbot/lib/python3.12/site-packages (from ctransformers==0.2.5->-r requirements.txt (line 1)) (0.23.4)\n",
      "Requirement already satisfied: transformers<5.0.0,>=4.32.0 in /home/eloi/anaconda3/envs/envmedchatbot/lib/python3.12/site-packages (from sentence-transformers==2.6.0->-r requirements.txt (line 2)) (4.42.3)\n",
      "Requirement already satisfied: tqdm in /home/eloi/anaconda3/envs/envmedchatbot/lib/python3.12/site-packages (from sentence-transformers==2.6.0->-r requirements.txt (line 2)) (4.66.4)\n",
      "Requirement already satisfied: torch>=1.11.0 in /home/eloi/anaconda3/envs/envmedchatbot/lib/python3.12/site-packages (from sentence-transformers==2.6.0->-r requirements.txt (line 2)) (2.3.1)\n",
      "Requirement already satisfied: numpy in /home/eloi/anaconda3/envs/envmedchatbot/lib/python3.12/site-packages (from sentence-transformers==2.6.0->-r requirements.txt (line 2)) (1.26.4)\n",
      "Requirement already satisfied: scikit-learn in /home/eloi/anaconda3/envs/envmedchatbot/lib/python3.12/site-packages (from sentence-transformers==2.6.0->-r requirements.txt (line 2)) (1.5.1)\n",
      "Requirement already satisfied: scipy in /home/eloi/anaconda3/envs/envmedchatbot/lib/python3.12/site-packages (from sentence-transformers==2.6.0->-r requirements.txt (line 2)) (1.14.0)\n",
      "Requirement already satisfied: Pillow in /home/eloi/anaconda3/envs/envmedchatbot/lib/python3.12/site-packages (from sentence-transformers==2.6.0->-r requirements.txt (line 2)) (10.4.0)\n",
      "Requirement already satisfied: certifi>=2019.11.17 in /home/eloi/anaconda3/envs/envmedchatbot/lib/python3.12/site-packages (from pinecone-client->-r requirements.txt (line 3)) (2024.7.4)\n",
      "Requirement already satisfied: pinecone-plugin-interface<0.0.8,>=0.0.7 in /home/eloi/anaconda3/envs/envmedchatbot/lib/python3.12/site-packages (from pinecone-client->-r requirements.txt (line 3)) (0.0.7)\n",
      "Requirement already satisfied: typing-extensions>=3.7.4 in /home/eloi/anaconda3/envs/envmedchatbot/lib/python3.12/site-packages (from pinecone-client->-r requirements.txt (line 3)) (4.12.2)\n",
      "Requirement already satisfied: urllib3>=1.26.5 in /home/eloi/anaconda3/envs/envmedchatbot/lib/python3.12/site-packages (from pinecone-client->-r requirements.txt (line 3)) (2.2.2)\n",
      "Requirement already satisfied: PyYAML>=5.3 in /home/eloi/anaconda3/envs/envmedchatbot/lib/python3.12/site-packages (from langchain->-r requirements.txt (line 4)) (6.0.1)\n",
      "Requirement already satisfied: SQLAlchemy<3,>=1.4 in /home/eloi/anaconda3/envs/envmedchatbot/lib/python3.12/site-packages (from langchain->-r requirements.txt (line 4)) (2.0.31)\n",
      "Requirement already satisfied: aiohttp<4.0.0,>=3.8.3 in /home/eloi/anaconda3/envs/envmedchatbot/lib/python3.12/site-packages (from langchain->-r requirements.txt (line 4)) (3.9.5)\n",
      "Requirement already satisfied: langchain-text-splitters<0.3.0,>=0.2.0 in /home/eloi/anaconda3/envs/envmedchatbot/lib/python3.12/site-packages (from langchain->-r requirements.txt (line 4)) (0.2.2)\n",
      "Requirement already satisfied: langsmith<0.2.0,>=0.1.17 in /home/eloi/anaconda3/envs/envmedchatbot/lib/python3.12/site-packages (from langchain->-r requirements.txt (line 4)) (0.1.84)\n",
      "Requirement already satisfied: pydantic<3,>=1 in /home/eloi/anaconda3/envs/envmedchatbot/lib/python3.12/site-packages (from langchain->-r requirements.txt (line 4)) (2.8.2)\n",
      "Requirement already satisfied: requests<3,>=2 in /home/eloi/anaconda3/envs/envmedchatbot/lib/python3.12/site-packages (from langchain->-r requirements.txt (line 4)) (2.32.3)\n",
      "Requirement already satisfied: tenacity!=8.4.0,<9.0.0,>=8.1.0 in /home/eloi/anaconda3/envs/envmedchatbot/lib/python3.12/site-packages (from langchain->-r requirements.txt (line 4)) (8.5.0)\n",
      "Requirement already satisfied: dataclasses-json<0.7,>=0.5.7 in /home/eloi/anaconda3/envs/envmedchatbot/lib/python3.12/site-packages (from langchain_community->-r requirements.txt (line 5)) (0.6.7)\n",
      "Requirement already satisfied: jsonpatch<2.0,>=1.33 in /home/eloi/anaconda3/envs/envmedchatbot/lib/python3.12/site-packages (from langchain_core->-r requirements.txt (line 6)) (1.33)\n",
      "Requirement already satisfied: packaging<25,>=23.2 in /home/eloi/anaconda3/envs/envmedchatbot/lib/python3.12/site-packages (from langchain_core->-r requirements.txt (line 6)) (24.1)\n",
      "Requirement already satisfied: tokenizers>=0.19.1 in /home/eloi/anaconda3/envs/envmedchatbot/lib/python3.12/site-packages (from langchain_huggingface->-r requirements.txt (line 7)) (0.19.1)\n",
      "Requirement already satisfied: openai<2.0.0,>=1.32.0 in /home/eloi/anaconda3/envs/envmedchatbot/lib/python3.12/site-packages (from langchain_openai->-r requirements.txt (line 8)) (1.35.10)\n",
      "Requirement already satisfied: tiktoken<1,>=0.7 in /home/eloi/anaconda3/envs/envmedchatbot/lib/python3.12/site-packages (from langchain_openai->-r requirements.txt (line 8)) (0.7.0)\n",
      "Requirement already satisfied: Werkzeug>=3.0.0 in /home/eloi/anaconda3/envs/envmedchatbot/lib/python3.12/site-packages (from flask->-r requirements.txt (line 9)) (3.0.3)\n",
      "Requirement already satisfied: Jinja2>=3.1.2 in /home/eloi/anaconda3/envs/envmedchatbot/lib/python3.12/site-packages (from flask->-r requirements.txt (line 9)) (3.1.4)\n",
      "Requirement already satisfied: itsdangerous>=2.1.2 in /home/eloi/anaconda3/envs/envmedchatbot/lib/python3.12/site-packages (from flask->-r requirements.txt (line 9)) (2.2.0)\n",
      "Requirement already satisfied: click>=8.1.3 in /home/eloi/anaconda3/envs/envmedchatbot/lib/python3.12/site-packages (from flask->-r requirements.txt (line 9)) (8.1.7)\n",
      "Requirement already satisfied: blinker>=1.6.2 in /home/eloi/anaconda3/envs/envmedchatbot/lib/python3.12/site-packages (from flask->-r requirements.txt (line 9)) (1.8.2)\n",
      "Requirement already satisfied: aiosignal>=1.1.2 in /home/eloi/anaconda3/envs/envmedchatbot/lib/python3.12/site-packages (from aiohttp<4.0.0,>=3.8.3->langchain->-r requirements.txt (line 4)) (1.3.1)\n",
      "Requirement already satisfied: attrs>=17.3.0 in /home/eloi/anaconda3/envs/envmedchatbot/lib/python3.12/site-packages (from aiohttp<4.0.0,>=3.8.3->langchain->-r requirements.txt (line 4)) (23.2.0)\n",
      "Requirement already satisfied: frozenlist>=1.1.1 in /home/eloi/anaconda3/envs/envmedchatbot/lib/python3.12/site-packages (from aiohttp<4.0.0,>=3.8.3->langchain->-r requirements.txt (line 4)) (1.4.1)\n",
      "Requirement already satisfied: multidict<7.0,>=4.5 in /home/eloi/anaconda3/envs/envmedchatbot/lib/python3.12/site-packages (from aiohttp<4.0.0,>=3.8.3->langchain->-r requirements.txt (line 4)) (6.0.5)\n",
      "Requirement already satisfied: yarl<2.0,>=1.0 in /home/eloi/anaconda3/envs/envmedchatbot/lib/python3.12/site-packages (from aiohttp<4.0.0,>=3.8.3->langchain->-r requirements.txt (line 4)) (1.9.4)\n",
      "Requirement already satisfied: marshmallow<4.0.0,>=3.18.0 in /home/eloi/anaconda3/envs/envmedchatbot/lib/python3.12/site-packages (from dataclasses-json<0.7,>=0.5.7->langchain_community->-r requirements.txt (line 5)) (3.21.3)\n",
      "Requirement already satisfied: typing-inspect<1,>=0.4.0 in /home/eloi/anaconda3/envs/envmedchatbot/lib/python3.12/site-packages (from dataclasses-json<0.7,>=0.5.7->langchain_community->-r requirements.txt (line 5)) (0.9.0)\n",
      "Requirement already satisfied: filelock in /home/eloi/anaconda3/envs/envmedchatbot/lib/python3.12/site-packages (from huggingface-hub->ctransformers==0.2.5->-r requirements.txt (line 1)) (3.15.4)\n",
      "Requirement already satisfied: fsspec>=2023.5.0 in /home/eloi/anaconda3/envs/envmedchatbot/lib/python3.12/site-packages (from huggingface-hub->ctransformers==0.2.5->-r requirements.txt (line 1)) (2024.6.1)\n",
      "Requirement already satisfied: MarkupSafe>=2.0 in /home/eloi/anaconda3/envs/envmedchatbot/lib/python3.12/site-packages (from Jinja2>=3.1.2->flask->-r requirements.txt (line 9)) (2.1.5)\n",
      "Requirement already satisfied: jsonpointer>=1.9 in /home/eloi/anaconda3/envs/envmedchatbot/lib/python3.12/site-packages (from jsonpatch<2.0,>=1.33->langchain_core->-r requirements.txt (line 6)) (3.0.0)\n",
      "Requirement already satisfied: orjson<4.0.0,>=3.9.14 in /home/eloi/anaconda3/envs/envmedchatbot/lib/python3.12/site-packages (from langsmith<0.2.0,>=0.1.17->langchain->-r requirements.txt (line 4)) (3.10.6)\n",
      "Requirement already satisfied: anyio<5,>=3.5.0 in /home/eloi/anaconda3/envs/envmedchatbot/lib/python3.12/site-packages (from openai<2.0.0,>=1.32.0->langchain_openai->-r requirements.txt (line 8)) (4.4.0)\n",
      "Requirement already satisfied: distro<2,>=1.7.0 in /home/eloi/anaconda3/envs/envmedchatbot/lib/python3.12/site-packages (from openai<2.0.0,>=1.32.0->langchain_openai->-r requirements.txt (line 8)) (1.9.0)\n",
      "Requirement already satisfied: httpx<1,>=0.23.0 in /home/eloi/anaconda3/envs/envmedchatbot/lib/python3.12/site-packages (from openai<2.0.0,>=1.32.0->langchain_openai->-r requirements.txt (line 8)) (0.27.0)\n",
      "Requirement already satisfied: sniffio in /home/eloi/anaconda3/envs/envmedchatbot/lib/python3.12/site-packages (from openai<2.0.0,>=1.32.0->langchain_openai->-r requirements.txt (line 8)) (1.3.1)\n",
      "Requirement already satisfied: annotated-types>=0.4.0 in /home/eloi/anaconda3/envs/envmedchatbot/lib/python3.12/site-packages (from pydantic<3,>=1->langchain->-r requirements.txt (line 4)) (0.7.0)\n",
      "Requirement already satisfied: pydantic-core==2.20.1 in /home/eloi/anaconda3/envs/envmedchatbot/lib/python3.12/site-packages (from pydantic<3,>=1->langchain->-r requirements.txt (line 4)) (2.20.1)\n",
      "Requirement already satisfied: charset-normalizer<4,>=2 in /home/eloi/anaconda3/envs/envmedchatbot/lib/python3.12/site-packages (from requests<3,>=2->langchain->-r requirements.txt (line 4)) (3.3.2)\n",
      "Requirement already satisfied: idna<4,>=2.5 in /home/eloi/anaconda3/envs/envmedchatbot/lib/python3.12/site-packages (from requests<3,>=2->langchain->-r requirements.txt (line 4)) (3.7)\n",
      "Requirement already satisfied: greenlet!=0.4.17 in /home/eloi/anaconda3/envs/envmedchatbot/lib/python3.12/site-packages (from SQLAlchemy<3,>=1.4->langchain->-r requirements.txt (line 4)) (3.0.3)\n",
      "Requirement already satisfied: regex>=2022.1.18 in /home/eloi/anaconda3/envs/envmedchatbot/lib/python3.12/site-packages (from tiktoken<1,>=0.7->langchain_openai->-r requirements.txt (line 8)) (2024.5.15)\n",
      "Requirement already satisfied: sympy in /home/eloi/anaconda3/envs/envmedchatbot/lib/python3.12/site-packages (from torch>=1.11.0->sentence-transformers==2.6.0->-r requirements.txt (line 2)) (1.13.0)\n",
      "Requirement already satisfied: networkx in /home/eloi/anaconda3/envs/envmedchatbot/lib/python3.12/site-packages (from torch>=1.11.0->sentence-transformers==2.6.0->-r requirements.txt (line 2)) (3.3)\n",
      "Requirement already satisfied: nvidia-cuda-nvrtc-cu12==12.1.105 in /home/eloi/anaconda3/envs/envmedchatbot/lib/python3.12/site-packages (from torch>=1.11.0->sentence-transformers==2.6.0->-r requirements.txt (line 2)) (12.1.105)\n",
      "Requirement already satisfied: nvidia-cuda-runtime-cu12==12.1.105 in /home/eloi/anaconda3/envs/envmedchatbot/lib/python3.12/site-packages (from torch>=1.11.0->sentence-transformers==2.6.0->-r requirements.txt (line 2)) (12.1.105)\n",
      "Requirement already satisfied: nvidia-cuda-cupti-cu12==12.1.105 in /home/eloi/anaconda3/envs/envmedchatbot/lib/python3.12/site-packages (from torch>=1.11.0->sentence-transformers==2.6.0->-r requirements.txt (line 2)) (12.1.105)\n",
      "Requirement already satisfied: nvidia-cudnn-cu12==8.9.2.26 in /home/eloi/anaconda3/envs/envmedchatbot/lib/python3.12/site-packages (from torch>=1.11.0->sentence-transformers==2.6.0->-r requirements.txt (line 2)) (8.9.2.26)\n",
      "Requirement already satisfied: nvidia-cublas-cu12==12.1.3.1 in /home/eloi/anaconda3/envs/envmedchatbot/lib/python3.12/site-packages (from torch>=1.11.0->sentence-transformers==2.6.0->-r requirements.txt (line 2)) (12.1.3.1)\n",
      "Requirement already satisfied: nvidia-cufft-cu12==11.0.2.54 in /home/eloi/anaconda3/envs/envmedchatbot/lib/python3.12/site-packages (from torch>=1.11.0->sentence-transformers==2.6.0->-r requirements.txt (line 2)) (11.0.2.54)\n",
      "Requirement already satisfied: nvidia-curand-cu12==10.3.2.106 in /home/eloi/anaconda3/envs/envmedchatbot/lib/python3.12/site-packages (from torch>=1.11.0->sentence-transformers==2.6.0->-r requirements.txt (line 2)) (10.3.2.106)\n",
      "Requirement already satisfied: nvidia-cusolver-cu12==11.4.5.107 in /home/eloi/anaconda3/envs/envmedchatbot/lib/python3.12/site-packages (from torch>=1.11.0->sentence-transformers==2.6.0->-r requirements.txt (line 2)) (11.4.5.107)\n",
      "Requirement already satisfied: nvidia-cusparse-cu12==12.1.0.106 in /home/eloi/anaconda3/envs/envmedchatbot/lib/python3.12/site-packages (from torch>=1.11.0->sentence-transformers==2.6.0->-r requirements.txt (line 2)) (12.1.0.106)\n",
      "Requirement already satisfied: nvidia-nccl-cu12==2.20.5 in /home/eloi/anaconda3/envs/envmedchatbot/lib/python3.12/site-packages (from torch>=1.11.0->sentence-transformers==2.6.0->-r requirements.txt (line 2)) (2.20.5)\n",
      "Requirement already satisfied: nvidia-nvtx-cu12==12.1.105 in /home/eloi/anaconda3/envs/envmedchatbot/lib/python3.12/site-packages (from torch>=1.11.0->sentence-transformers==2.6.0->-r requirements.txt (line 2)) (12.1.105)\n",
      "Requirement already satisfied: nvidia-nvjitlink-cu12 in /home/eloi/anaconda3/envs/envmedchatbot/lib/python3.12/site-packages (from nvidia-cusolver-cu12==11.4.5.107->torch>=1.11.0->sentence-transformers==2.6.0->-r requirements.txt (line 2)) (12.5.82)\n",
      "Requirement already satisfied: safetensors>=0.4.1 in /home/eloi/anaconda3/envs/envmedchatbot/lib/python3.12/site-packages (from transformers<5.0.0,>=4.32.0->sentence-transformers==2.6.0->-r requirements.txt (line 2)) (0.4.3)\n",
      "Requirement already satisfied: joblib>=1.2.0 in /home/eloi/anaconda3/envs/envmedchatbot/lib/python3.12/site-packages (from scikit-learn->sentence-transformers==2.6.0->-r requirements.txt (line 2)) (1.4.2)\n",
      "Requirement already satisfied: threadpoolctl>=3.1.0 in /home/eloi/anaconda3/envs/envmedchatbot/lib/python3.12/site-packages (from scikit-learn->sentence-transformers==2.6.0->-r requirements.txt (line 2)) (3.5.0)\n",
      "Requirement already satisfied: httpcore==1.* in /home/eloi/anaconda3/envs/envmedchatbot/lib/python3.12/site-packages (from httpx<1,>=0.23.0->openai<2.0.0,>=1.32.0->langchain_openai->-r requirements.txt (line 8)) (1.0.5)\n",
      "Requirement already satisfied: h11<0.15,>=0.13 in /home/eloi/anaconda3/envs/envmedchatbot/lib/python3.12/site-packages (from httpcore==1.*->httpx<1,>=0.23.0->openai<2.0.0,>=1.32.0->langchain_openai->-r requirements.txt (line 8)) (0.14.0)\n",
      "Requirement already satisfied: mypy-extensions>=0.3.0 in /home/eloi/anaconda3/envs/envmedchatbot/lib/python3.12/site-packages (from typing-inspect<1,>=0.4.0->dataclasses-json<0.7,>=0.5.7->langchain_community->-r requirements.txt (line 5)) (1.0.0)\n",
      "Requirement already satisfied: mpmath<1.4,>=1.1.0 in /home/eloi/anaconda3/envs/envmedchatbot/lib/python3.12/site-packages (from sympy->torch>=1.11.0->sentence-transformers==2.6.0->-r requirements.txt (line 2)) (1.3.0)\n",
      "Installing collected packages: Medical-Chatbot\n",
      "  Attempting uninstall: Medical-Chatbot\n",
      "    Found existing installation: Medical-Chatbot 0.0.0\n",
      "    Uninstalling Medical-Chatbot-0.0.0:\n",
      "      Successfully uninstalled Medical-Chatbot-0.0.0\n",
      "  Running setup.py develop for Medical-Chatbot\n",
      "Successfully installed Medical-Chatbot-0.0.0\n",
      "Requirement already satisfied: ctransformers in /home/eloi/anaconda3/envs/envmedchatbot/lib/python3.12/site-packages (0.2.5)\n",
      "Requirement already satisfied: huggingface-hub in /home/eloi/anaconda3/envs/envmedchatbot/lib/python3.12/site-packages (from ctransformers) (0.23.4)\n",
      "Requirement already satisfied: filelock in /home/eloi/anaconda3/envs/envmedchatbot/lib/python3.12/site-packages (from huggingface-hub->ctransformers) (3.15.4)\n",
      "Requirement already satisfied: fsspec>=2023.5.0 in /home/eloi/anaconda3/envs/envmedchatbot/lib/python3.12/site-packages (from huggingface-hub->ctransformers) (2024.6.1)\n",
      "Requirement already satisfied: packaging>=20.9 in /home/eloi/anaconda3/envs/envmedchatbot/lib/python3.12/site-packages (from huggingface-hub->ctransformers) (24.1)\n",
      "Requirement already satisfied: pyyaml>=5.1 in /home/eloi/anaconda3/envs/envmedchatbot/lib/python3.12/site-packages (from huggingface-hub->ctransformers) (6.0.1)\n",
      "Requirement already satisfied: requests in /home/eloi/anaconda3/envs/envmedchatbot/lib/python3.12/site-packages (from huggingface-hub->ctransformers) (2.32.3)\n",
      "Requirement already satisfied: tqdm>=4.42.1 in /home/eloi/anaconda3/envs/envmedchatbot/lib/python3.12/site-packages (from huggingface-hub->ctransformers) (4.66.4)\n",
      "Requirement already satisfied: typing-extensions>=3.7.4.3 in /home/eloi/anaconda3/envs/envmedchatbot/lib/python3.12/site-packages (from huggingface-hub->ctransformers) (4.12.2)\n",
      "Requirement already satisfied: charset-normalizer<4,>=2 in /home/eloi/anaconda3/envs/envmedchatbot/lib/python3.12/site-packages (from requests->huggingface-hub->ctransformers) (3.3.2)\n",
      "Requirement already satisfied: idna<4,>=2.5 in /home/eloi/anaconda3/envs/envmedchatbot/lib/python3.12/site-packages (from requests->huggingface-hub->ctransformers) (3.7)\n",
      "Requirement already satisfied: urllib3<3,>=1.21.1 in /home/eloi/anaconda3/envs/envmedchatbot/lib/python3.12/site-packages (from requests->huggingface-hub->ctransformers) (2.2.2)\n",
      "Requirement already satisfied: certifi>=2017.4.17 in /home/eloi/anaconda3/envs/envmedchatbot/lib/python3.12/site-packages (from requests->huggingface-hub->ctransformers) (2024.7.4)\n"
     ]
    }
   ],
   "source": [
    "# ! pip install -r requirements.txt\n",
    "# ! pip install python-dotenv pypdf\n",
    "# ! pip install ctransformers\n",
    "# ! ollama run llama3"
   ]
  },
  {
   "cell_type": "code",
   "execution_count": 1,
   "metadata": {},
   "outputs": [
    {
     "name": "stderr",
     "output_type": "stream",
     "text": [
      "/home/eloi/anaconda3/envs/envmedchatbot/lib/python3.12/site-packages/pinecone/data/index.py:1: TqdmWarning: IProgress not found. Please update jupyter and ipywidgets. See https://ipywidgets.readthedocs.io/en/stable/user_install.html\n",
      "  from tqdm.autonotebook import tqdm\n"
     ]
    }
   ],
   "source": [
    "from langchain.prompts import PromptTemplate\n",
    "from langchain.chains import RetrievalQA\n",
    "from langchain.embeddings import HuggingFaceEmbeddings\n",
    "from langchain.vectorstores import Pinecone as LangchainPinecone\n",
    "import pinecone\n",
    "from pinecone import Pinecone, ServerlessSpec\n",
    "from langchain.document_loaders import PyPDFLoader, DirectoryLoader\n",
    "from langchain.text_splitter import RecursiveCharacterTextSplitter\n",
    "from langchain_community.llms import CTransformers \n",
    "import os\n",
    "from dotenv import load_dotenv"
   ]
  },
  {
   "cell_type": "code",
   "execution_count": 2,
   "metadata": {},
   "outputs": [],
   "source": [
    "# for llama3\n",
    "from langchain_community.llms import Ollama\n",
    "llm_model3 = Ollama(model=\"llama3\")\n"
   ]
  },
  {
   "cell_type": "code",
   "execution_count": 3,
   "metadata": {},
   "outputs": [],
   "source": [
    "load_dotenv()\n",
    "\n",
    "PINECONE_API_KEY = os.getenv(\"PINECONE_API_KEY\")"
   ]
  },
  {
   "cell_type": "code",
   "execution_count": 4,
   "metadata": {},
   "outputs": [],
   "source": [
    "llm_model1 = \"llama-2-7b-chat.ggmlv3.q4_0.bin\"\n",
    "llm_model2 = \"mixtral-8x7b-instruct-v0.1-limarp-zloss-dare-ties.Q4_0.gguf\"\n",
    "\n",
    "embedding_model1 = \"sentence-transformers/all-MiniLM-L6-v2\""
   ]
  },
  {
   "cell_type": "code",
   "execution_count": 5,
   "metadata": {},
   "outputs": [],
   "source": [
    "# Extract text from PDFs\n",
    "def load_pdf (data):\n",
    "    loader = DirectoryLoader(\n",
    "        data,\n",
    "        glob=\"*.pdf\",\n",
    "        loader_cls=PyPDFLoader\n",
    "    )\n",
    "    documents = loader.load()\n",
    "\n",
    "    return documents"
   ]
  },
  {
   "cell_type": "code",
   "execution_count": 6,
   "metadata": {},
   "outputs": [],
   "source": [
    "extracted_data = load_pdf(\"data\")"
   ]
  },
  {
   "cell_type": "code",
   "execution_count": 7,
   "metadata": {},
   "outputs": [
    {
     "data": {
      "text/plain": [
       "4005"
      ]
     },
     "execution_count": 7,
     "metadata": {},
     "output_type": "execute_result"
    }
   ],
   "source": [
    "len(extracted_data)"
   ]
  },
  {
   "cell_type": "code",
   "execution_count": 8,
   "metadata": {},
   "outputs": [],
   "source": [
    "def text_split(extracted_data):\n",
    "    text_splitter = RecursiveCharacterTextSplitter(chunk_size=1000, chunk_overlap=100)\n",
    "    text_chunks = text_splitter.split_documents(extracted_data)\n",
    "    \n",
    "    return text_chunks"
   ]
  },
  {
   "cell_type": "code",
   "execution_count": 9,
   "metadata": {},
   "outputs": [
    {
     "name": "stdout",
     "output_type": "stream",
     "text": [
      "nomber of chunks: 21526\n"
     ]
    }
   ],
   "source": [
    "text_chunks = text_split(extracted_data)\n",
    "print(\"nomber of chunks:\",len(text_chunks))"
   ]
  },
  {
   "cell_type": "code",
   "execution_count": 10,
   "metadata": {},
   "outputs": [],
   "source": [
    "def download_hugging_face_model(embedding_model):\n",
    "    embeddings = HuggingFaceEmbeddings(model_name=embedding_model)\n",
    "    return embeddings"
   ]
  },
  {
   "cell_type": "code",
   "execution_count": 11,
   "metadata": {},
   "outputs": [
    {
     "name": "stderr",
     "output_type": "stream",
     "text": [
      "/home/eloi/anaconda3/envs/envmedchatbot/lib/python3.12/site-packages/langchain_core/_api/deprecation.py:139: LangChainDeprecationWarning: The class `HuggingFaceEmbeddings` was deprecated in LangChain 0.2.2 and will be removed in 0.3.0. An updated version of the class exists in the langchain-huggingface package and should be used instead. To use it run `pip install -U langchain-huggingface` and import as `from langchain_huggingface import HuggingFaceEmbeddings`.\n",
      "  warn_deprecated(\n"
     ]
    }
   ],
   "source": [
    "embeddings = download_hugging_face_model(embedding_model1)"
   ]
  },
  {
   "cell_type": "code",
   "execution_count": 12,
   "metadata": {},
   "outputs": [
    {
     "data": {
      "text/plain": [
       "HuggingFaceEmbeddings(client=SentenceTransformer(\n",
       "  (0): Transformer({'max_seq_length': 256, 'do_lower_case': False}) with Transformer model: BertModel \n",
       "  (1): Pooling({'word_embedding_dimension': 384, 'pooling_mode_cls_token': False, 'pooling_mode_mean_tokens': True, 'pooling_mode_max_tokens': False, 'pooling_mode_mean_sqrt_len_tokens': False, 'pooling_mode_weightedmean_tokens': False, 'pooling_mode_lasttoken': False, 'include_prompt': True})\n",
       "  (2): Normalize()\n",
       "), model_name='sentence-transformers/all-MiniLM-L6-v2', cache_folder=None, model_kwargs={}, encode_kwargs={}, multi_process=False, show_progress=False)"
      ]
     },
     "execution_count": 12,
     "metadata": {},
     "output_type": "execute_result"
    }
   ],
   "source": [
    "embeddings"
   ]
  },
  {
   "cell_type": "code",
   "execution_count": 13,
   "metadata": {},
   "outputs": [
    {
     "name": "stdout",
     "output_type": "stream",
     "text": [
      "length: 384\n"
     ]
    }
   ],
   "source": [
    "query_result = embeddings.embed_query(\"What is the capital of France?\")\n",
    "print(\"length:\",len(query_result))"
   ]
  },
  {
   "cell_type": "code",
   "execution_count": 14,
   "metadata": {},
   "outputs": [],
   "source": [
    "# query_result"
   ]
  },
  {
   "cell_type": "code",
   "execution_count": 14,
   "metadata": {},
   "outputs": [],
   "source": [
    "pc = Pinecone(\n",
    "    api_key=PINECONE_API_KEY\n",
    ")"
   ]
  },
  {
   "cell_type": "code",
   "execution_count": 15,
   "metadata": {},
   "outputs": [],
   "source": [
    "index_name = \"medical-chatbot\""
   ]
  },
  {
   "cell_type": "code",
   "execution_count": 16,
   "metadata": {},
   "outputs": [],
   "source": [
    "if index_name not in pc.list_indexes().names():\n",
    "    pc.create_index(\n",
    "        name=index_name,\n",
    "        dimension=len(query_result),\n",
    "        metric=\"cosine\",\n",
    "        spec=ServerlessSpec(\n",
    "            cloud='aws', \n",
    "            region='us-east-1'\n",
    "        ) \n",
    "    ) "
   ]
  },
  {
   "cell_type": "code",
   "execution_count": 16,
   "metadata": {},
   "outputs": [],
   "source": [
    "index = pc.Index(index_name)"
   ]
  },
  {
   "cell_type": "code",
   "execution_count": 19,
   "metadata": {},
   "outputs": [],
   "source": [
    "docsearch = LangchainPinecone.from_texts(\n",
    "    texts=[t.page_content for t in text_chunks], \n",
    "    embedding=embeddings, \n",
    "    index_name=index_name\n",
    ")"
   ]
  },
  {
   "cell_type": "markdown",
   "metadata": {},
   "source": []
  },
  {
   "cell_type": "code",
   "execution_count": 17,
   "metadata": {},
   "outputs": [
    {
     "name": "stdout",
     "output_type": "stream",
     "text": [
      "Results: [Document(page_content='Purpose\\nAllergy is a reaction of the immune system. Nor-\\nmally, the immune system responds to foreign microor-ganisms and particles, like pollen or dust, by producingspecific proteins called antibodies that are capable ofbinding to identifying molecules, or antigens, on theforeign organisms. This reaction between antibody andantigen sets off a series of reactions designed to protectthe body from infection. Sometimes, this same series ofreactions is triggered by harmless, everyday substances.This is the condition known as allergy, and the offend-ing substance is called an allergen. Common inhaledallergens include pollen, dust, and insect parts from tinyhouse mites. Common food allergens include nuts, fish,and milk.\\nAllergic reactions involve a special set of cells in'), Document(page_content='Description\\nAllergies are among the most common of medical\\ndisorders. It is estimated that 60 million Americans, ormore than one in every five people, suffer from someform of allergy, with similar proportions throughoutmuch of the rest of the world. Allergy is the single largestreason for school absence and is a major source of lostproductivity in the workplace.\\nAn allergy is a type of immune reaction. Normally,\\nthe immune system responds to foreign microorganismsor particles by producing specific proteins called anti-bodies. These antibodies are capable of binding to iden-tifying molecules, or antigens, on the foreign particle.This reaction between antibody and antigen sets off aseries of chemical reactions designed to protect thebody from infection. Sometimes, this same series ofreactions is triggered by harmless, everyday substancessuch as pollen, dust, and animal danders. When thisoccurs, an allergy develops against the offending sub-stance (an allergen.)'), Document(page_content='Causes and symptoms\\nCauses\\nAllergic rhinitis is a type of immune reaction. Nor-\\nmally, the immune system responds to foreign microor-ganisms, or particles, like pollen or dust, by producingspecific proteins, called antibodies, that are capable ofbinding to identifying molecules, or antigens, on the for-eign particle. This reaction between antibody and antigensets off a series of reactions designed to protect the bodyfrom infection. Sometimes, this same series of reactionsis triggered by harmless, everyday substances. This is thecondition known as allergy, and the offending substanceis called an allergen.\\nLike all allergic reactions, AR involves a special')]\n"
     ]
    }
   ],
   "source": [
    "docsearch = LangchainPinecone.from_existing_index(index_name=index_name, embedding=embeddings)\n",
    "\n",
    "query = \"What are Allergies?\"\n",
    "\n",
    "docs = docsearch.similarity_search(query, k=3)\n",
    "\n",
    "print(\"Results:\",docs)"
   ]
  },
  {
   "cell_type": "code",
   "execution_count": 18,
   "metadata": {},
   "outputs": [],
   "source": [
    "prompt_template=\"\"\"\n",
    "Use the following pieces of information to answer the user's question.\n",
    "If you don't know the answer, just say that you don't know, don't try to make up an answer.\n",
    "\n",
    "Context: {context}\n",
    "Question: {question}\n",
    "\n",
    "Only return the helpful answer below and nothing else.\n",
    "Helpful answer:\n",
    "\"\"\""
   ]
  },
  {
   "cell_type": "code",
   "execution_count": 19,
   "metadata": {},
   "outputs": [],
   "source": [
    "PROMPT=PromptTemplate(template=prompt_template, \n",
    "                      input_variables=[\"context\", \"question\"])\n",
    "chain_type_kwargs={\"prompt\": PROMPT}"
   ]
  },
  {
   "cell_type": "code",
   "execution_count": null,
   "metadata": {},
   "outputs": [
    {
     "name": "stderr",
     "output_type": "stream",
     "text": [
      "Downloading shards:  75%|███████▌  | 3/4 [1:37:14<32:21, 1941.41s/it]  "
     ]
    }
   ],
   "source": [
    "# import transformers\n",
    "# import torch\n",
    "\n",
    "# model_id = \"model/meta-llama/Meta-Llama-3-8B-Instruct\"\n",
    "\n",
    "# pipeline = transformers.pipeline(\n",
    "#   \"text-generation\",\n",
    "#   model=\"meta-llama/Meta-Llama-3-8B-Instruct\",\n",
    "#   model_kwargs={\"torch_dtype\": torch.bfloat16},\n",
    "#   device=\"cuda\",\n",
    "# )"
   ]
  },
  {
   "cell_type": "code",
   "execution_count": 20,
   "metadata": {},
   "outputs": [],
   "source": [
    "llm=CTransformers(model=\"model/llama-2-7b-chat.ggmlv3.q4_0.bin\",\n",
    "                  model_type=\"llama\",\n",
    "                  config={'max_new_tokens':512,\n",
    "                          'temperature':0.4})"
   ]
  },
  {
   "cell_type": "code",
   "execution_count": 22,
   "metadata": {},
   "outputs": [],
   "source": [
    "qa=RetrievalQA.from_chain_type(\n",
    "    llm=llm_model3, \n",
    "    chain_type=\"stuff\", \n",
    "    retriever=docsearch.as_retriever(search_kwargs={'k': 2}),\n",
    "    return_source_documents=True, \n",
    "    chain_type_kwargs=chain_type_kwargs)"
   ]
  },
  {
   "cell_type": "code",
   "execution_count": 23,
   "metadata": {},
   "outputs": [
    {
     "name": "stderr",
     "output_type": "stream",
     "text": [
      "/home/eloi/anaconda3/envs/envmedchatbot/lib/python3.12/site-packages/langchain_core/_api/deprecation.py:139: LangChainDeprecationWarning: The method `Chain.__call__` was deprecated in langchain 0.1.0 and will be removed in 0.3.0. Use invoke instead.\n",
      "  warn_deprecated(\n"
     ]
    },
    {
     "name": "stdout",
     "output_type": "stream",
     "text": [
      "Response :  Acne is a common skin disease characterized by pimples on the face, chest, and back. It occurs when the pores of the skin become clogged with oil, dead skin cells, and bacteria.\n",
      "Response :  Acne is a common skin disease characterized by pimples on the face, chest, and back. It occurs when the pores of the skin become clogged with oil, dead skin cells, and bacteria.\n",
      "Response :  A substance that provokes an allergic response.\n",
      "Response :  A contraceptive implant is inserted under the skin of a woman's arm.\n",
      "Response :  An allergy occurs when a person's immune system overreacts to a specific substance, known as an allergen. This overreaction can cause a range of symptoms, including inflammation of the mucous membranes in the nose and eyes (allergic rhinitis), increased sensitivity that can lead to serious reactions such as anaphylaxis, or severe non-inflammatory swelling of the skin, organs, and brain (angioedema). The immune system produces specific proteins called antibodies in response to these allergens.\n",
      "Response :  I don't know.\n"
     ]
    }
   ],
   "source": [
    "while True:\n",
    "    user_input=input(f\"Input Prompt:\")\n",
    "    result=qa({\"query\": user_input})\n",
    "    print(\"Response : \", result[\"result\"])"
   ]
  }
 ],
 "metadata": {
  "kernelspec": {
   "display_name": "envmedchatbot",
   "language": "python",
   "name": "python3"
  },
  "language_info": {
   "codemirror_mode": {
    "name": "ipython",
    "version": 3
   },
   "file_extension": ".py",
   "mimetype": "text/x-python",
   "name": "python",
   "nbconvert_exporter": "python",
   "pygments_lexer": "ipython3",
   "version": "3.12.4"
  }
 },
 "nbformat": 4,
 "nbformat_minor": 2
}
